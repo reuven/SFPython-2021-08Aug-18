{
 "cells": [
  {
   "cell_type": "markdown",
   "metadata": {},
   "source": [
    "# Pandas + dates + times\n",
    "\n",
    "Mirrored at: https://github.com/reuven/SFPython-2021-08Aug-18"
   ]
  },
  {
   "cell_type": "markdown",
   "metadata": {},
   "source": [
    "# Agenda\n",
    "\n",
    "1. Date/time concepts and data structures\n",
    "2. Timestamp columns (how to read them)\n",
    "3. Time delta columns (what they are, and how to work with them)\n",
    "4. Date/time indexes on data frames\n",
    "5. Time series "
   ]
  }
 ],
 "metadata": {
  "kernelspec": {
   "display_name": "Python 3",
   "language": "python",
   "name": "python3"
  },
  "language_info": {
   "codemirror_mode": {
    "name": "ipython",
    "version": 3
   },
   "file_extension": ".py",
   "mimetype": "text/x-python",
   "name": "python",
   "nbconvert_exporter": "python",
   "pygments_lexer": "ipython3",
   "version": "3.9.6"
  }
 },
 "nbformat": 4,
 "nbformat_minor": 4
}
