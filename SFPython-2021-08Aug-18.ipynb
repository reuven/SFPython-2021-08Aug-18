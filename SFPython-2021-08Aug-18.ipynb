{
 "cells": [
  {
   "cell_type": "markdown",
   "metadata": {},
   "source": [
    "# Pandas + dates + times\n",
    "\n",
    "Mirrored at: https://github.com/reuven/SFPython-2021-08Aug-18"
   ]
  },
  {
   "cell_type": "markdown",
   "metadata": {},
   "source": [
    "# Agenda\n",
    "\n",
    "1. Date/time concepts and data structures\n",
    "2. Timestamp columns (how to read them)\n",
    "3. Time delta columns (what they are, and how to work with them)\n",
    "4. Date/time indexes on data frames\n",
    "5. Time series and resampling\n"
   ]
  },
  {
   "cell_type": "markdown",
   "metadata": {},
   "source": [
    "# Time and date concepts\n",
    "\n",
    "There are basically two of them:\n",
    "\n",
    "- One moment in time (when the meeting starts, or when you were born) -- timestamp/datetime, representing one specific moment\n",
    "- A span of time (how long the meeting goes, or how long you have been alive) -- timedelta -- doesn't have a specific start or end, but rather is a length of time"
   ]
  },
  {
   "cell_type": "code",
   "execution_count": 1,
   "metadata": {},
   "outputs": [],
   "source": [
    "import pandas as pd\n",
    "from pandas import Series, DataFrame"
   ]
  },
  {
   "cell_type": "code",
   "execution_count": null,
   "metadata": {},
   "outputs": [],
   "source": [
    "df = pd.read_csv('taxi.csv')"
   ]
  }
 ],
 "metadata": {
  "kernelspec": {
   "display_name": "Python 3",
   "language": "python",
   "name": "python3"
  },
  "language_info": {
   "codemirror_mode": {
    "name": "ipython",
    "version": 3
   },
   "file_extension": ".py",
   "mimetype": "text/x-python",
   "name": "python",
   "nbconvert_exporter": "python",
   "pygments_lexer": "ipython3",
   "version": "3.9.6"
  }
 },
 "nbformat": 4,
 "nbformat_minor": 4
}
